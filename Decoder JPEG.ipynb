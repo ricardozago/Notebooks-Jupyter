{
 "cells": [
  {
   "cell_type": "markdown",
   "id": "71641835",
   "metadata": {},
   "source": [
    "# Decodificando um arquivo JPEG passo a passo"
   ]
  },
  {
   "cell_type": "markdown",
   "id": "56048b08",
   "metadata": {},
   "source": [
    "JPEG (Joint Photographic Experts Group) é um padrão de compactação de imagens criado em 1992 muito utilizado na internet, é um formato lossy, ou seja, com diminuição na qualidade da imagem. É comum imagens salvas nesse formato [apresentarem artefatos](https://en.wikipedia.org/wiki/Compression_artifact). Outro formato muito utilizado é o PNG (Portable Network Graphics), que é um formato Lossless, ou seja, sem redução na qualidade, geralmente ocupando muito mais espaço que um JPEG, além de permitir o uso de transparencias na imagem, o que em páginas web pode ser importante.\n",
    "\n",
    "O JPEG utiliza algumas técnicas para compactar a imagem, como a Transformada discreta de cosseno (DCT, Discrete Cosine Transform) e codificação de Huffman, que iremos explicar ao longo deste notebook.\n",
    "\n",
    "Antes de mais nada gostaria de recomendar alguns materiais extremamente interessantes e úteis:\n",
    "\n",
    "+ O primeiro é o site [ImpulseAdventure](https://www.impulseadventure.com/photo/) que conta com uma série de artigos explicando o funcionamento do JPEG, como decodificar as tabelas de Huffman, etc.\n",
    "\n",
    "+ A segunda referência é o projeto [micro-jpeg-visualizer](https://github.com/aguaviva/micro-jpeg-visualizer) de Raul Aguaviva, que é um decoder JPEG escrito em 250 linhas de código Python. Se você quer um código mais robusto recomendo esse projeto, reaproveitei muito do que ele fez. Na realidade até diminuindo a qualidade do código, que era orientado a objetos, deixei em funções, transformei algumas lista puras Python em numpy arrays, que permite operações vetoriais. A licença é a MIT, que mantenho nesse notebook;\n",
    "\n",
    "+ Este [repositório do Github](https://github.com/corkami/formats/blob/master/image/jpeg.md) contém algumas imagens que explicam o formato de arquivo do JPEG, que são uma mão na roda no momento de fazer o parsing do arquivo;\n",
    "\n",
    "+ A [Parametric Press](https://parametric.press/issue-01/unraveling-the-jpeg/) tem um interessante artigo, mais alto nível, explicando um pouco o funcionamento do JPEG;\n",
    "\n",
    "+ Um [guia Romeno](http://www.opennet.ru/docs/formats/jpeg.txt) sobre como o formato funciona, achei esse quando estava terminando de montar esse notebook, muito completo.\n"
   ]
  },
  {
   "cell_type": "markdown",
   "id": "cc61fab4",
   "metadata": {},
   "source": [
    "## Leitura da imagem usando biblioteca pronta"
   ]
  },
  {
   "cell_type": "code",
   "execution_count": 1,
   "id": "298cce06",
   "metadata": {},
   "outputs": [],
   "source": [
    "import pandas as pd\n",
    "import numpy as np\n",
    "import matplotlib.pyplot as plt\n",
    "import math\n",
    "from textwrap import wrap"
   ]
  },
  {
   "cell_type": "code",
   "execution_count": 2,
   "id": "0e7dba59",
   "metadata": {},
   "outputs": [
    {
     "data": {
      "image/png": "[encoded data removed]",
      "text/plain": [
       "<Figure size 1080x216 with 1 Axes>"
      ]
     },
     "metadata": {
      "needs_background": "light"
     },
     "output_type": "display_data"
    }
   ],
   "source": [
    "imagem_path = 'teste low quality.jpg'\n",
    "img = plt.imread(imagem_path)\n",
    "fig, ax = plt.subplots(figsize=(15, 3))\n",
    "ax.axis('off')\n",
    "ax.imshow(img);"
   ]
  },
  {
   "cell_type": "markdown",
   "id": "cd27a831",
   "metadata": {},
   "source": [
    "A compactação fazendo uso de DCT é feita em blocos 8x8 pixels. A imagem utilizada como exemplo, criada no programa [Paint.NET](www.getpaint.net), possui o tamanho de 40x8 pixels, desta forma temos 5 MCUs (*Minimum Coded Unit*) distintos. Que são mostrados super-amplicados acima."
   ]
  },
  {
   "cell_type": "markdown",
   "id": "3490baa6",
   "metadata": {},
   "source": [
    "## Partes de um arquivo JPEG"
   ]
  },
  {
   "cell_type": "markdown",
   "id": "05fb60e8",
   "metadata": {},
   "source": [
    "Um arquivo JPEG é constituido de diversos segmentos, geralmente demarcados com o número hexadecimal `0xFF` e em sequencia 32 bits demarcando o tamanho em passos de 16 bits do segmento. O [arquivo](https://github.com/corkami/formats/blob/master/image/JPEGRGB_dissected.png) do repositório Git recomendado acima é uma ótima referência, utilizei bastante na hora de decodificar os segmentos. Os principais segmentos, podendo existir outros, são:\n",
    "\n",
    "+ **Start of Imagem**: Ínicio do arquivo, demarcado por: 0xFFD8;\n",
    "+ **[Application0](#Application0)**: Contém informações sobre o formato, versão do JPEG, dentre outras;\n",
    "+ **[Quantization Table](#Quantization)**: Tabelas de quantização, utilizadas na hora de decodificar a transformada cosseno;\n",
    "+ **[Start Of Frame (SoF)](#SoF)**:  Informações sobre a resolução da imagem;\n",
    "+ **[Tabelas de Huffman](#huffman)**: Tabelas de Huffman para codificação de entropia;\n",
    "+ **[Star Of Scan (SoS)](#SoS)**: Informações sobre as tabelas de huffman que devem ser utilizadas."
   ]
  },
  {
   "cell_type": "markdown",
   "id": "9870a229",
   "metadata": {},
   "source": [
    "## Lendo o arquivo JPEG"
   ]
  },
  {
   "cell_type": "code",
   "execution_count": 3,
   "id": "7c1ba6bc",
   "metadata": {},
   "outputs": [],
   "source": [
    "with open(imagem_path, \"rb\") as f:\n",
    "    bytes_read = f.read()"
   ]
  },
  {
   "cell_type": "markdown",
   "id": "ca4f4ef6",
   "metadata": {},
   "source": [
    "Para facilitar a visualização das operações (esse código é didático), iremos transformar os bytes em texto usando hexadecimal. Vai ser lento e ocupar muito mais espaço em RAM, mas nosso foco é entender as operações realizadas para decodificar um JPEG, não fazer um código produtivo, então ok."
   ]
  },
  {
   "cell_type": "code",
   "execution_count": 4,
   "id": "f1d510dc",
   "metadata": {},
   "outputs": [],
   "source": [
    "jpeg_hex = bytes(bytes_read).hex().upper()"
   ]
  },
  {
   "cell_type": "markdown",
   "id": "3ae6e07c",
   "metadata": {},
   "source": [
    "O Arquivo JPEG deve começar com o código ```FF D8``` e terminar com ```FF D9```. Portanto esta será nossa primeira validação."
   ]
  },
  {
   "cell_type": "code",
   "execution_count": 5,
   "id": "ff0af98d",
   "metadata": {},
   "outputs": [
    {
     "data": {
      "text/plain": [
       "True"
      ]
     },
     "execution_count": 5,
     "metadata": {},
     "output_type": "execute_result"
    }
   ],
   "source": [
    "jpeg_hex[:4] == \"FFD8\" and jpeg_hex[-4:] == \"FFD9\""
   ]
  },
  {
   "cell_type": "markdown",
   "id": "7c89e45e",
   "metadata": {},
   "source": [
    "Conforme esperado nosso arquivo respeita esse padrão."
   ]
  },
  {
   "cell_type": "markdown",
   "id": "29e64155",
   "metadata": {},
   "source": [
    "### Parse dos segmentos"
   ]
  },
  {
   "cell_type": "markdown",
   "id": "f66f4383",
   "metadata": {},
   "source": [
    "Iremos criar uma lista chamada `segmentos` com todas as partes que constituem um jpeg."
   ]
  },
  {
   "cell_type": "code",
   "execution_count": 6,
   "id": "7c65b46a",
   "metadata": {},
   "outputs": [],
   "source": [
    "segmentos = []\n",
    "resto = jpeg_hex[4:]"
   ]
  },
  {
   "cell_type": "code",
   "execution_count": 7,
   "id": "cc6e4735",
   "metadata": {},
   "outputs": [],
   "source": [
    "while len(resto) >0:\n",
    "    if resto[:2] == \"FF\":\n",
    "        segmentos.append(resto[:int(resto[4:8], 16)*2+4])\n",
    "        resto = resto[int(resto[4:8], 16)*2+4:]\n",
    "    else:\n",
    "        segmentos.append(resto[:-4])\n",
    "        resto = \"\""
   ]
  },
  {
   "cell_type": "markdown",
   "id": "1b9274e9",
   "metadata": {},
   "source": [
    "# Application0 <a id='Application0'></a>"
   ]
  },
  {
   "cell_type": "markdown",
   "id": "824dbc8a",
   "metadata": {},
   "source": [
    "Agora iremos ler as propriedades do arquivo, o arquivo pode ser um arquivo JFIF ou Exif (o JFIF pode ter informação exif), resolução, versão. Essa parte começa com o marcador ```FF E0```."
   ]
  },
  {
   "cell_type": "code",
   "execution_count": 8,
   "id": "2b875ce1",
   "metadata": {},
   "outputs": [
    {
     "data": {
      "text/plain": [
       "'FFE000104A46494600010101006000600000'"
      ]
     },
     "execution_count": 8,
     "metadata": {},
     "output_type": "execute_result"
    }
   ],
   "source": [
    "application_hex = [x for x in segmentos if x[:4] == \"FFE0\"][0]\n",
    "application_hex"
   ]
  },
  {
   "cell_type": "code",
   "execution_count": 9,
   "id": "b4e7770a",
   "metadata": {},
   "outputs": [
    {
     "name": "stdout",
     "output_type": "stream",
     "text": [
      "Formato em HEX: 4A46494600 em String: JFIF\u0000\n",
      "A versão do JPEG é 1.1\n",
      "O DPI é 1\n",
      "A densidade é 96x96\n"
     ]
    }
   ],
   "source": [
    "identifier_hex = application_hex[2*4:2*4+2*5]\n",
    "identifier_string = bytearray.fromhex(identifier_hex).decode()\n",
    "print(\"Formato em HEX:\", identifier_hex, \"em String:\", identifier_string)\n",
    "\n",
    "versao_hex = application_hex[2*9:2*9+2*2]\n",
    "print(\"A versão do JPEG é \", int(versao_hex[:2], 16), \".\", int(versao_hex[2:4], 16), sep=\"\")\n",
    "\n",
    "dpi_hex = application_hex[2*11:2*11+2*1]\n",
    "print(\"O DPI é \", int(dpi_hex, 16), sep=\"\")\n",
    "\n",
    "desit_1 = application_hex[2*12:2*12+2*2]\n",
    "desit_2 = application_hex[2*14:2*14+2*2]\n",
    "print(\"A densidade é \", int(desit_1, 16), \"x\", int(desit_2, 16), sep = \"\")"
   ]
  },
  {
   "cell_type": "markdown",
   "id": "743640a3",
   "metadata": {},
   "source": [
    "# Quantization Table Luminance/Chrominance <a id='Quantization'></a>"
   ]
  },
  {
   "cell_type": "markdown",
   "id": "a01be749",
   "metadata": {},
   "source": [
    "Para decodificar os campos anteriores apenas cortamos no campo a seguir, agora precisamos realmente levar em consideração o tamanho do campo, pois o marcador da tabela de Quantização é o mesmo para Luminância e Crominância ```FFDB```."
   ]
  },
  {
   "cell_type": "code",
   "execution_count": 10,
   "id": "bfdb76f6",
   "metadata": {},
   "outputs": [],
   "source": [
    "quantization_tables = [x for x in segmentos if x[:4] == \"FFDB\"]"
   ]
  },
  {
   "cell_type": "code",
   "execution_count": 11,
   "id": "6681d53e",
   "metadata": {},
   "outputs": [
    {
     "name": "stdout",
     "output_type": "stream",
     "text": [
      "O tamanho do campo é: 67\n",
      "Campo: 0 significa Luminância\n",
      "O tamanho do campo é: 67\n",
      "Campo: 1 significa Crominância\n"
     ]
    }
   ],
   "source": [
    "quant_table1_hex_temp = quantization_tables[0]\n",
    "\n",
    "len_campo = int(quant_table1_hex_temp[2*2:2*2+2*2], 16)\n",
    "print(\"O tamanho do campo é:\", len_campo)\n",
    "quant_table1_hex = quant_table1_hex_temp[2*5:2*len_campo+2*2]\n",
    "print(\"Campo: \", int(quant_table1_hex_temp[2*4:2*5], 16), \" significa Luminância\", sep=\"\")\n",
    "\n",
    "\n",
    "if len(quantization_tables)>=2:\n",
    "    quant_table2_hex_temp = quantization_tables[1]\n",
    "    \n",
    "    len_campo = int(quant_table2_hex_temp[2*2:2*2+2*2], 16)\n",
    "    print(\"O tamanho do campo é:\", len_campo)\n",
    "    quant_table2_hex = quant_table2_hex_temp[2*5:2*len_campo+2*2]\n",
    "    print(\"Campo: \", int(quant_table2_hex_temp[2*4:2*5], 16), \" significa Crominância\", sep=\"\")"
   ]
  },
  {
   "cell_type": "markdown",
   "id": "4f85bba8",
   "metadata": {},
   "source": [
    "A Matriz de luminância é uma matriz 8x8, onde cada valor é representado por dois caracteres na nossa string, obtendo os 128 caracteres."
   ]
  },
  {
   "cell_type": "code",
   "execution_count": 12,
   "id": "25f7137c",
   "metadata": {},
   "outputs": [],
   "source": [
    "zigzag = [0, 1, 5, 6, 14, 15, 27, 28,\n",
    "2, 4, 7, 13, 16, 26, 29, 42,\n",
    "3, 8, 12, 17, 25, 30, 41, 43,\n",
    "9, 11, 18, 24, 31, 40, 44, 53,\n",
    "10, 19, 23, 32, 39, 45, 52, 54,\n",
    "20, 22, 33, 38, 46, 51, 55, 60,\n",
    "21, 34, 37, 47, 50, 56, 59, 61,\n",
    "35, 36, 48, 49, 57, 58, 62, 63]"
   ]
  },
  {
   "cell_type": "code",
   "execution_count": 13,
   "id": "918be65c",
   "metadata": {},
   "outputs": [
    {
     "data": {
      "text/plain": [
       "array([[ 6,  4,  4,  6, 10, 16, 20, 24],\n",
       "       [ 5,  5,  6,  8, 10, 23, 24, 22],\n",
       "       [ 6,  5,  6, 10, 16, 23, 28, 22],\n",
       "       [ 6,  7,  9, 12, 20, 35, 32, 25],\n",
       "       [ 7,  9, 15, 22, 27, 44, 41, 31],\n",
       "       [10, 14, 22, 26, 32, 42, 45, 37],\n",
       "       [20, 26, 31, 35, 41, 48, 48, 40],\n",
       "       [29, 37, 38, 39, 45, 40, 41, 40]])"
      ]
     },
     "execution_count": 13,
     "metadata": {},
     "output_type": "execute_result"
    }
   ],
   "source": [
    "np.array([int(x, 16) for x in wrap(quant_table1_hex, 2)])[zigzag].reshape([8,8])"
   ]
  },
  {
   "cell_type": "code",
   "execution_count": 14,
   "id": "2073ec33",
   "metadata": {},
   "outputs": [
    {
     "data": {
      "text/plain": [
       "array([[ 7,  7, 10, 19, 40, 40, 40, 40],\n",
       "       [ 7,  8, 10, 26, 40, 40, 40, 40],\n",
       "       [10, 10, 22, 40, 40, 40, 40, 40],\n",
       "       [19, 26, 40, 40, 40, 40, 40, 40],\n",
       "       [40, 40, 40, 40, 40, 40, 40, 40],\n",
       "       [40, 40, 40, 40, 40, 40, 40, 40],\n",
       "       [40, 40, 40, 40, 40, 40, 40, 40],\n",
       "       [40, 40, 40, 40, 40, 40, 40, 40]])"
      ]
     },
     "execution_count": 14,
     "metadata": {},
     "output_type": "execute_result"
    }
   ],
   "source": [
    "np.array([int(x, 16) for x in wrap(quant_table2_hex, 2)])[zigzag].reshape([8,8])"
   ]
  },
  {
   "cell_type": "code",
   "execution_count": 15,
   "id": "9464ca06",
   "metadata": {
    "scrolled": true
   },
   "outputs": [],
   "source": [
    "qt_tb1 = np.array([int(x, 16) for x in wrap(quant_table1_hex, 2)])\n",
    "qt_tb2 = np.array([int(x, 16) for x in wrap(quant_table2_hex, 2)])"
   ]
  },
  {
   "cell_type": "code",
   "execution_count": 16,
   "id": "9c615983",
   "metadata": {},
   "outputs": [],
   "source": [
    "qt_tb = {0:qt_tb1, 1:qt_tb2}"
   ]
  },
  {
   "cell_type": "markdown",
   "id": "53f2895f",
   "metadata": {},
   "source": [
    "# Start of Frame <a id='SoF'></a>"
   ]
  },
  {
   "cell_type": "markdown",
   "id": "6b5eb161",
   "metadata": {},
   "source": [
    "Este é o campo que contém a informação de resolução da imagem, vamos decodificá-lo."
   ]
  },
  {
   "cell_type": "code",
   "execution_count": 17,
   "id": "75a10981",
   "metadata": {},
   "outputs": [],
   "source": [
    "SoF_hex = [x for x in segmentos if x[:4] == \"FFC0\"][0]"
   ]
  },
  {
   "cell_type": "code",
   "execution_count": 18,
   "id": "ccef4dd4",
   "metadata": {},
   "outputs": [],
   "source": [
    "altura = int(SoF_hex[2*5:2*7], 16)\n",
    "largura = int(SoF_hex[2*7:2*9], 16)"
   ]
  },
  {
   "cell_type": "code",
   "execution_count": 19,
   "id": "f4a44ef3",
   "metadata": {},
   "outputs": [
    {
     "name": "stdout",
     "output_type": "stream",
     "text": [
      "Precisão: 8\n",
      "Resolução: 8x40 (Altura x Largura)\n"
     ]
    }
   ],
   "source": [
    "print(\"Precisão: \", int(SoF_hex[2*4:2*5], 16), \"\\nResolução: \", \n",
    "      altura, \"x\", largura, \" (Altura x Largura)\", sep=\"\")"
   ]
  },
  {
   "cell_type": "code",
   "execution_count": 20,
   "id": "6afc9c95",
   "metadata": {},
   "outputs": [],
   "source": [
    "# 01 21 00 \n",
    "# 02 11 01 \n",
    "# 03 11 01"
   ]
  },
  {
   "cell_type": "markdown",
   "id": "1c17e27a",
   "metadata": {},
   "source": [
    "# Código de Huffman, entropy codding <a id='huffman'></a>"
   ]
  },
  {
   "cell_type": "markdown",
   "id": "069f4497",
   "metadata": {},
   "source": [
    "Essa parte foi bem complicadinha, parte do código foi copiada do projeto [micro-jpeg-visualizer](https://github.com/aguaviva/micro-jpeg-visualizer). Inicialmente temos que entender a importância da codificação de entropia."
   ]
  },
  {
   "cell_type": "markdown",
   "id": "1076c7aa",
   "metadata": {},
   "source": [
    "Imagine uma sequência binária `01 01 11 01 01 01 00 10 01 01`, esta sequência ocupa 20 bits, seria possível fazer ela ocupar menos? Podemos perceber que `01`aparece 7 vezes, enquanto `00`, `10` e `11` aparecem apenas uma vez cada.\n",
    "\n",
    "Podemos fazer uma codificação de Huffman, que utiliza as probabilidades dos símbolos (70% para `01` e 10% para os demais), para chegar a uma representação ótima dos dados (existem ótimos vídeos no Youtube), onde:\n",
    "\n",
    "| Valor | Codificação |\n",
    "|-------|-------------|\n",
    "| 01    | 0           |\n",
    "| 00    | 10          |\n",
    "| 10    | 110         |\n",
    "| 11    | 111         |\n",
    "\n",
    "Passamos então a poder representar nossa antiga sequência como:\n",
    "`0 0 0 111 0 0 0 10 110 0 0`, ocupando agora 16 bits, uma compressão de 20% (em dados grandes, o espaço ocupado pela tabela é irrisório).\n",
    "\n",
    "O padrão JPEG também preve o uso de uma codificação chamada de aritimética, no entanto, na época da publicação do padrão ela estava sob patentes, que fizeram que nunca fosse devidamente implantada na maioria dos encoders/decoders de JPEG. O simples uso dessa codificação poderia diminuir o tamanho dos JPEGs em ~10%, coisa que o JPEG XL faz para salvar os arquivos JPEG ocupando menos espaço (dentre outras) e mantendo a mesma qualidade."
   ]
  },
  {
   "cell_type": "code",
   "execution_count": 21,
   "id": "e47a217b",
   "metadata": {},
   "outputs": [],
   "source": [
    "huffman_hex_list = [x for x in segmentos if x[:4] == \"FFC4\"]"
   ]
  },
  {
   "cell_type": "code",
   "execution_count": 22,
   "id": "fb46e37c",
   "metadata": {},
   "outputs": [],
   "source": [
    "huffman_dict = {}\n",
    "\n",
    "for huffman_hex in huffman_hex_list:\n",
    "    # Remove o começo, que contém FFC0 e o tamanho:\n",
    "    huffman_string = huffman_hex[8:]\n",
    "\n",
    "    i = 0\n",
    "\n",
    "    while len(huffman_string)>0:\n",
    "        huffman_inicio = huffman_string[:2]\n",
    "        huffman_string = huffman_string[2:]\n",
    "        lengths = []\n",
    "        for i in range(0,16):\n",
    "            lengths.append(int(huffman_string[2*i:2*i+2], 16))\n",
    "        encoddings = []\n",
    "        for i in range(sum(lengths)):\n",
    "            encoddings.append(huffman_string[32+2*i:34+2*i])\n",
    "        huffman_dict[huffman_inicio] = (lengths, encoddings)\n",
    "        huffman_string = huffman_string[32+2*sum(lengths):]"
   ]
  },
  {
   "cell_type": "code",
   "execution_count": 23,
   "id": "698f7202",
   "metadata": {},
   "outputs": [],
   "source": [
    "# Essa parte foi copiada desse repositório que possui licença MIT: https://github.com/aguaviva/micro-jpeg-visualizer/blob/master/micro-jpeg-visualizer.py\n",
    "\n",
    "def BitsFromLengths(root, element, pos):\n",
    "    if isinstance(root,list):\n",
    "        if pos==0:\n",
    "            if len(root)<2:\n",
    "                root.append(element)\n",
    "                return True                \n",
    "            return False\n",
    "        for i in [0,1]:\n",
    "            if len(root) == i:\n",
    "                root.append([])\n",
    "            if BitsFromLengths(root[i], element, pos-1) == True:\n",
    "                return True\n",
    "    return False\n",
    "\n",
    "def Find(r,st):\n",
    "    try:\n",
    "        i=0\n",
    "        while isinstance(r, list):\n",
    "            r=r[int(st[i])]\n",
    "            i=i+1\n",
    "        return r\n",
    "    except:\n",
    "        None\n",
    "\n",
    "def GetCode(r, st):\n",
    "    while(True):\n",
    "        res = Find(r, st)\n",
    "        if res == 0:\n",
    "            return 0\n",
    "        elif res != -1:\n",
    "            return res"
   ]
  },
  {
   "cell_type": "code",
   "execution_count": 24,
   "id": "4ea45a84",
   "metadata": {},
   "outputs": [],
   "source": [
    "def get_root(d):\n",
    "    lengths = d[0]\n",
    "    encoddings = d[1]\n",
    "    root = []\n",
    "    ii = 0\n",
    "    for i in range(len(lengths)):\n",
    "        for j in range(lengths[i]):\n",
    "            BitsFromLengths(root, encoddings[ii], i)\n",
    "            ii+=1\n",
    "    return root"
   ]
  },
  {
   "cell_type": "code",
   "execution_count": 25,
   "id": "eb00df2c",
   "metadata": {},
   "outputs": [],
   "source": [
    "roots_dicts = {}\n",
    "\n",
    "for key in huffman_dict.keys():\n",
    "    roots_dicts[key] = get_root(huffman_dict[key])"
   ]
  },
  {
   "cell_type": "code",
   "execution_count": 26,
   "id": "2383d12c",
   "metadata": {},
   "outputs": [],
   "source": [
    "# Baseado em: https://stackoverflow.com/a/62856494\n",
    "\n",
    "def printTree(node, level=0, string = \"\"):\n",
    "    if type(node) != str:\n",
    "        if len(node)>0:\n",
    "            printTree(node[0], level + 1, string = string+str(0))\n",
    "    else:\n",
    "        print(\"|\"+string.ljust(16)+\"|\", ' ' * 4 * (level-1) + '->', node)\n",
    "    if type(node) != str:\n",
    "        if len(node)>1:\n",
    "            printTree(node[1], level + 1, string = string+str(1))"
   ]
  },
  {
   "cell_type": "markdown",
   "id": "e0d53eac",
   "metadata": {},
   "source": [
    "Um ponto interessante, é que no JPEG, não é salva a tabela acima, com o valor e sua codificação, é armazenado apenas a quantidade de representações com cada número de dígitos e os código hexadecimais ordenados.\n",
    "\n",
    "Vamos pegar um exemplo de representação:\n",
    "00 01 05 01 ... (16 núcleos no total), essa representação significa que temos 0 representações de 1 dígito, 1 com 1 dígito, 5 com 2 dígitos...\n",
    "\n",
    "Abaixo para uma leitura facilitada:"
   ]
  },
  {
   "cell_type": "code",
   "execution_count": 27,
   "id": "ff8e9b10",
   "metadata": {},
   "outputs": [
    {
     "name": "stdout",
     "output_type": "stream",
     "text": [
      "|00              |     -> 00\n",
      "|010             |         -> 01\n",
      "|011             |         -> 02\n",
      "|100             |         -> 03\n",
      "|101             |         -> 04\n",
      "|110             |         -> 05\n",
      "|1110            |             -> 06\n",
      "|11110           |                 -> 07\n",
      "|111110          |                     -> 08\n",
      "|1111110         |                         -> 09\n",
      "|11111110        |                             -> 0A\n",
      "|111111110       |                                 -> 0B\n"
     ]
    }
   ],
   "source": [
    "printTree(roots_dicts[\"00\"])"
   ]
  },
  {
   "cell_type": "markdown",
   "id": "e7cb146c",
   "metadata": {},
   "source": [
    "Aqui a função que dada uma codificação retorna a sequência decodificada, ou None se não existir."
   ]
  },
  {
   "cell_type": "code",
   "execution_count": 28,
   "id": "92b1e876",
   "metadata": {},
   "outputs": [
    {
     "data": {
      "text/plain": [
       "'0B'"
      ]
     },
     "execution_count": 28,
     "metadata": {},
     "output_type": "execute_result"
    }
   ],
   "source": [
    "Find(roots_dicts[\"00\"],'111111110')"
   ]
  },
  {
   "cell_type": "code",
   "execution_count": 29,
   "id": "9ab87807",
   "metadata": {},
   "outputs": [
    {
     "name": "stdout",
     "output_type": "stream",
     "text": [
      "None\n"
     ]
    }
   ],
   "source": [
    "print(Find(roots_dicts[\"00\"],'01'))"
   ]
  },
  {
   "cell_type": "markdown",
   "id": "84c4388b",
   "metadata": {},
   "source": [
    "# Start of Scan (SoS) <a id='SoS'></a>"
   ]
  },
  {
   "cell_type": "markdown",
   "id": "b77b520c",
   "metadata": {},
   "source": [
    "Tirando usos avançados que estão fora do escopo, esta seção faz a ligação de qual tabela de Huffman usar com cada cor (o JPEG armazena em YCbCr). Geralmente é utilizada uma tabela para a luminância (Y) e outra para as crominâncias (Cb e Cr), mas são permitidas mais tabelas."
   ]
  },
  {
   "cell_type": "code",
   "execution_count": 30,
   "id": "e0a706c9",
   "metadata": {},
   "outputs": [],
   "source": [
    "SoS_hex = [x for x in segmentos if x[:4] == \"FFDA\"][0]"
   ]
  },
  {
   "cell_type": "code",
   "execution_count": 31,
   "id": "2b1f4f2e",
   "metadata": {},
   "outputs": [],
   "source": [
    "dict_componentes = {}"
   ]
  },
  {
   "cell_type": "code",
   "execution_count": 32,
   "id": "56f27bb4",
   "metadata": {},
   "outputs": [
    {
     "data": {
      "text/plain": [
       "'03010002110311003F00'"
      ]
     },
     "execution_count": 32,
     "metadata": {},
     "output_type": "execute_result"
    }
   ],
   "source": [
    "SoS_hex[8:]"
   ]
  },
  {
   "cell_type": "code",
   "execution_count": 33,
   "id": "09e6cee0",
   "metadata": {},
   "outputs": [],
   "source": [
    "SoS_hex = SoS_hex[8:]"
   ]
  },
  {
   "cell_type": "code",
   "execution_count": 34,
   "id": "f31f2bb8",
   "metadata": {},
   "outputs": [],
   "source": [
    "quantidade_de_tabelas = int(SoS_hex[:2], 16)\n",
    "SoS_hex = SoS_hex[2:]"
   ]
  },
  {
   "cell_type": "code",
   "execution_count": 35,
   "id": "67bfa00c",
   "metadata": {},
   "outputs": [],
   "source": [
    "for i in range(quantidade_de_tabelas):\n",
    "    componente = int(SoS_hex[:2], 16)\n",
    "    SoS_hex = SoS_hex[2:]\n",
    "    dict_componentes[componente] = [\"0\"+SoS_hex[0],\"1\"+SoS_hex[1]]\n",
    "    SoS_hex = SoS_hex[2:]"
   ]
  },
  {
   "cell_type": "code",
   "execution_count": 36,
   "id": "26b5ed89",
   "metadata": {},
   "outputs": [
    {
     "data": {
      "text/plain": [
       "{1: ['00', '10'], 2: ['01', '11'], 3: ['01', '11']}"
      ]
     },
     "execution_count": 36,
     "metadata": {},
     "output_type": "execute_result"
    }
   ],
   "source": [
    "dict_componentes"
   ]
  },
  {
   "cell_type": "markdown",
   "id": "f8350256",
   "metadata": {},
   "source": [
    "Tomemos como exemplo a componente \"1\" que representa a luminância Y:"
   ]
  },
  {
   "cell_type": "code",
   "execution_count": 37,
   "id": "a4fa3eb6",
   "metadata": {},
   "outputs": [
    {
     "data": {
      "text/plain": [
       "['00', '10']"
      ]
     },
     "execution_count": 37,
     "metadata": {},
     "output_type": "execute_result"
    }
   ],
   "source": [
    "dict_componentes[1]"
   ]
  },
  {
   "cell_type": "markdown",
   "id": "1a02c0f5",
   "metadata": {},
   "source": [
    "O primeiro dígito representa a componente DC ou AC, o segundo qual tabela usar para a respectiva componente."
   ]
  },
  {
   "cell_type": "markdown",
   "id": "f24cc08e",
   "metadata": {},
   "source": [
    "# Dados da imagem"
   ]
  },
  {
   "cell_type": "markdown",
   "id": "5661a5c7",
   "metadata": {},
   "source": [
    "É aqui que a mágica começa, apesar que não posso dizer que é a parte difícil, já que os códigos de Huffman não foram lá muito fáceis, aqui usamos o que já decodificamos nas etapas anteriores, como as tabelas de quantização, os códigos de Huffman, matrix de zigzag..."
   ]
  },
  {
   "cell_type": "markdown",
   "id": "ffd271b5",
   "metadata": {},
   "source": [
    "É o último segmento do JPEG e para economizar espaço o único que não começa com 0xFF."
   ]
  },
  {
   "cell_type": "code",
   "execution_count": 38,
   "id": "ca2ff9fa",
   "metadata": {},
   "outputs": [],
   "source": [
    "dados_imagem_hex = segmentos[-1]"
   ]
  },
  {
   "cell_type": "markdown",
   "id": "793ae91c",
   "metadata": {},
   "source": [
    "O primeiro passo é fazer um pequeno tratamento nos dados, para substituir aparições de 0xFF00 por 0xFF, já que como 0xFF é um demarcador das partes dos segmentos do arquivo JPEG, qualquer aparição dele nos dados da imagem deve ser sinalizada."
   ]
  },
  {
   "cell_type": "code",
   "execution_count": 39,
   "id": "afbcfaae",
   "metadata": {},
   "outputs": [],
   "source": [
    "dados_imagem_hex = dados_imagem_hex.replace(\"FF00\", \"FF\")"
   ]
  },
  {
   "cell_type": "markdown",
   "id": "dd7af0cc",
   "metadata": {},
   "source": [
    "Imagem em Hexadecimal (como é grande não iremos mostrar tudo):"
   ]
  },
  {
   "cell_type": "code",
   "execution_count": 40,
   "id": "36b80dfa",
   "metadata": {},
   "outputs": [
    {
     "data": {
      "text/plain": [
       "'D8F3EEA3D4A50A9A9B4A1BF73F67895A3C606339E3AF5C9AC6857C3C7963ECD4BBDD3E65FA7E27E63956574AB5385575E9C5'"
      ]
     },
     "execution_count": 40,
     "metadata": {},
     "output_type": "execute_result"
    }
   ],
   "source": [
    "dados_imagem_hex[:100]"
   ]
  },
  {
   "cell_type": "markdown",
   "id": "38e50ec0",
   "metadata": {},
   "source": [
    "Imagem em binário"
   ]
  },
  {
   "cell_type": "markdown",
   "id": "6d2c81d9",
   "metadata": {},
   "source": [
    "Nas partes anteriores, a decodificação era sempre quebrada em 2 bytes por vez, lembrando que 2 bytes = 16 bits, agora os bits devem ser analisados individualmente, portantos iremos converter para binário."
   ]
  },
  {
   "cell_type": "code",
   "execution_count": 41,
   "id": "ef8e2a5c",
   "metadata": {},
   "outputs": [],
   "source": [
    "dados_imagem_bin = bin(int(dados_imagem_hex, 16))[2:]"
   ]
  },
  {
   "cell_type": "code",
   "execution_count": 42,
   "id": "fa0df855",
   "metadata": {},
   "outputs": [
    {
     "name": "stdout",
     "output_type": "stream",
     "text": [
      "Tamanho: 2664 bits\n",
      "100 primeiros bits da imagem: 1101100011110011111011101010001111010100101001010000101010011010100110110100101000011011111101110011\n"
     ]
    }
   ],
   "source": [
    "print(\"Tamanho:\", len(dados_imagem_bin), \"bits\\n100 primeiros bits da imagem:\", dados_imagem_bin[:100])"
   ]
  },
  {
   "cell_type": "markdown",
   "id": "fe729c60",
   "metadata": {},
   "source": [
    "## Run-length encoding"
   ]
  },
  {
   "cell_type": "markdown",
   "id": "1f2b4da1",
   "metadata": {},
   "source": [
    "O primeiro passo é decodificar os `Run-length encoding` (RLE). No Jpeg, tanto por característica das imagens, quanto por construção do formato, existe uma tendência de ter muito zeros em sequência. O objetivo desse encoding é comprimir sem perda de informações o formato para muitos zeros."
   ]
  },
  {
   "cell_type": "code",
   "execution_count": 43,
   "id": "a8b4376f",
   "metadata": {},
   "outputs": [],
   "source": [
    "def get_RLC(dados_imagem_bin, root_lists):\n",
    "    binarios = []\n",
    "    root = root_lists[0]\n",
    "    \n",
    "    i=0\n",
    "    while Find(roots_dicts[root], dados_imagem_bin[:i]) == None:\n",
    "        i=i+1\n",
    "    tamanho = int(Find(roots_dicts[root],dados_imagem_bin[:i]),16)\n",
    "    binario = dados_imagem_bin[i:i+tamanho]\n",
    "    binarios.append(binario)\n",
    "    dados_imagem_bin = dados_imagem_bin[i+tamanho:]\n",
    "\n",
    "    root = root_lists[1]\n",
    "    l=1\n",
    "    while l<64:        \n",
    "        i=0\n",
    "        while Find(roots_dicts[root],dados_imagem_bin[:i]) == None:\n",
    "            i=i+1\n",
    "        tamanho = int(Find(roots_dicts[root],dados_imagem_bin[:i]),16)\n",
    "        if tamanho == 0:\n",
    "            dados_imagem_bin = dados_imagem_bin[i+tamanho:]\n",
    "            break\n",
    "        if tamanho >15:\n",
    "            l = l + (tamanho>>4)\n",
    "            binarios.extend([\"\" for x in range(tamanho>>4)])\n",
    "            tamanho = tamanho & 0xf\n",
    "        binario = dados_imagem_bin[i:i+tamanho]\n",
    "        binarios.append(binario)\n",
    "        dados_imagem_bin = dados_imagem_bin[i+tamanho:]\n",
    "        \n",
    "        l = l + 1\n",
    "\n",
    "    return dados_imagem_bin, binarios"
   ]
  },
  {
   "cell_type": "markdown",
   "id": "e25844af",
   "metadata": {},
   "source": [
    "Vamos tomar um exemplo dessa codificação com os primeiros bits da imagem (abaixo separados para facilitar a leitura):\n",
    "\n",
    "`111110 10010010 01 10 1111000 100101 1111000 111110 11010 01101...`\n",
    "\n",
    "O primeiro passo é acessar é utiliza o código de Huffman, abaixo a tabela para luminância para o componente DC:\n",
    "\n",
    "`|00       |-> 0x00\n",
    "|010      |-> 0x01\n",
    "|011      |-> 0x02\n",
    "|100      |-> 0x03\n",
    "|101      |-> 0x04\n",
    "|110      |-> 0x05\n",
    "|1110     |-> 0x06\n",
    "|11110    |-> 0x07\n",
    "|111110   |-> 0x08\n",
    "|1111110  |-> 0x09\n",
    "|11111110 |-> 0x0A\n",
    "|111111110|-> 0x0B`\n",
    "\n",
    "Vamos caminhando nos bits até encontrar uma entrada no dicionário, ou seja, primeiro procuramos `1`, depois `11`, até chegar no `111110`, que é o primeiro encontrado, cujo valor é 0x08, significando que os próximos 8 bits `10010010` são o código a ser procurado."
   ]
  },
  {
   "cell_type": "markdown",
   "id": "d427d95e",
   "metadata": {},
   "source": [
    "Interessante notar que o próprio código (`10010010`), é feito também numa maneira a economizar bits, no [site Impulse Adventure](https://www.impulseadventure.com/photo/jpeg-huffman-coding.html), em \"Table 5 - Huffman DC Value Encoding\", existe uma tabela mostrando vários valores. Basicamente a ausência de um valor significa `0`, isso ocorre quando na tabela de Huffman acima o comprimento é zero, abaixo outros exemplos:\n",
    "\n",
    "| Código | Valor |\n",
    "|--------|-------|\n",
    "| 0b0    | -1    |\n",
    "| 0b1    | 1     |\n",
    "| 0b00   | -3    |\n",
    "| 0b01   | -2    |\n",
    "| 0b10   | 2     |\n",
    "| 0b11   | 3     |\n",
    "\n",
    "A decodificação de `10010010`, pode ser feita com a função abaixo:"
   ]
  },
  {
   "cell_type": "code",
   "execution_count": 44,
   "id": "d8589f6b",
   "metadata": {},
   "outputs": [],
   "source": [
    "def binstr2num(binario):\n",
    "    if len(binario) == 0:\n",
    "        return 0\n",
    "    decimal = int(binario, 2)\n",
    "    l = 2**(len(binario)-1)\n",
    "    if decimal>=l:\n",
    "        return decimal\n",
    "    else:\n",
    "        return decimal-(2*l-1)"
   ]
  },
  {
   "cell_type": "code",
   "execution_count": 45,
   "id": "9976c77d",
   "metadata": {},
   "outputs": [
    {
     "data": {
      "text/plain": [
       "146"
      ]
     },
     "execution_count": 45,
     "metadata": {},
     "output_type": "execute_result"
    }
   ],
   "source": [
    "binstr2num(\"10010010\")"
   ]
  },
  {
   "cell_type": "markdown",
   "id": "421ad64d",
   "metadata": {},
   "source": [
    "O segundo valor a ser extraído agora faz uso da Tabela de Huffman de Luminancia AC, ele é bem maior, então não vou exibir, mas pode ser mostrada com o seguinte comando: `printTree(roots_dicts[\"10\"])`\n",
    "\n",
    "O código abaixo consegue decodificar todos os valores de Luminancia do primeiro MCU (mostro os 5 primeiros para não ficar muito grande):"
   ]
  },
  {
   "cell_type": "code",
   "execution_count": 46,
   "id": "e1c2e450",
   "metadata": {},
   "outputs": [
    {
     "data": {
      "text/plain": [
       "['11000', '', '111', '1010', '011']"
      ]
     },
     "execution_count": 46,
     "metadata": {},
     "output_type": "execute_result"
    }
   ],
   "source": [
    "get_RLC(dados_imagem_bin,  ['00', '10'])[1][:5]"
   ]
  },
  {
   "cell_type": "markdown",
   "id": "115d7bcf",
   "metadata": {},
   "source": [
    "E decodificados em números:"
   ]
  },
  {
   "cell_type": "code",
   "execution_count": 47,
   "id": "589820d3",
   "metadata": {},
   "outputs": [
    {
     "data": {
      "text/plain": [
       "[24, 0, 7, 10, -4]"
      ]
     },
     "execution_count": 47,
     "metadata": {},
     "output_type": "execute_result"
    }
   ],
   "source": [
    "[binstr2num(x) for x in get_RLC(dados_imagem_bin,  ['00', '10'])[1]][:5]"
   ]
  },
  {
   "cell_type": "markdown",
   "id": "bdb62f1b",
   "metadata": {},
   "source": [
    "Para cada MCU, os valores de Luminância (Y) e Crominância (Cr e Cb) são decodificados, a crominância possui o seu próprio código de Huffman."
   ]
  },
  {
   "cell_type": "code",
   "execution_count": 48,
   "id": "f609c68a",
   "metadata": {},
   "outputs": [],
   "source": [
    "def decode_bin2int(binarios, dccoeff_old):\n",
    "    \n",
    "    decodificado = np.zeros(64)\n",
    "    \n",
    "    dccoeff = dccoeff_old + binstr2num(binarios[0])\n",
    "    decodificado[0] = dccoeff\n",
    "    \n",
    "    for l, binario in enumerate(binarios[1:]):\n",
    "        decodificado[l+1] = binstr2num(binario)\n",
    "        \n",
    "    return decodificado, dccoeff"
   ]
  },
  {
   "cell_type": "markdown",
   "id": "7e0319c5",
   "metadata": {},
   "source": [
    "Legal, agora temos um vetor de números, como decodifico ele numa imagem?"
   ]
  },
  {
   "cell_type": "markdown",
   "id": "ef20111d",
   "metadata": {},
   "source": [
    "## Transformada Discreta Cosseno"
   ]
  },
  {
   "cell_type": "markdown",
   "id": "c9c3f856",
   "metadata": {},
   "source": [
    "Aqui é onde a mágina da compactação acontece, basicamente transformamos uma imagem para as suas frequências constituintes, vamos ver alguns exemplos a seguir. Primeiramente precisamos declarar funções que montam as formas que constituirão as imagens. "
   ]
  },
  {
   "cell_type": "code",
   "execution_count": 49,
   "id": "df82c524",
   "metadata": {},
   "outputs": [],
   "source": [
    "def NormCoeff(n):\n",
    "    return (1.0/8.0)**(1/2) if (n==0) else (2.0/8.0)**(1/2)\n",
    "\n",
    "def IDC(n, m):\n",
    "    an = NormCoeff(n)\n",
    "    am = NormCoeff(m)\n",
    "    \n",
    "    X = np.array(np.arange(0, 8, dtype=int)[np.newaxis,:]).repeat(8, axis = 0)\n",
    "    Y = X.T\n",
    "    \n",
    "    return an * am * np.cos(n* math.pi*(X +.5)/8.0) * np.cos(m*math.pi*(Y+.5)/8.0)"
   ]
  },
  {
   "cell_type": "markdown",
   "id": "85dd31c5",
   "metadata": {},
   "source": [
    "Agora plotamos as imagens, cuja combinação linear, formam a luminância e os dois componentes de crominância da imagem. É feito um zigzag, conforme a matrix abaixo, para composição da imagem, onde os componente de maior frequência aparecem por último e na composição da imagem, muitas vezes podem ser simplesmente trucados (isso é boa parte da compactação do jpeg)."
   ]
  },
  {
   "cell_type": "code",
   "execution_count": 50,
   "id": "4de8879a",
   "metadata": {},
   "outputs": [
    {
     "data": {
      "text/plain": [
       "array([[ 0,  1,  5,  6, 14, 15, 27, 28],\n",
       "       [ 2,  4,  7, 13, 16, 26, 29, 42],\n",
       "       [ 3,  8, 12, 17, 25, 30, 41, 43],\n",
       "       [ 9, 11, 18, 24, 31, 40, 44, 53],\n",
       "       [10, 19, 23, 32, 39, 45, 52, 54],\n",
       "       [20, 22, 33, 38, 46, 51, 55, 60],\n",
       "       [21, 34, 37, 47, 50, 56, 59, 61],\n",
       "       [35, 36, 48, 49, 57, 58, 62, 63]])"
      ]
     },
     "execution_count": 50,
     "metadata": {},
     "output_type": "execute_result"
    }
   ],
   "source": [
    "np.array(zigzag).reshape((8,8))"
   ]
  },
  {
   "cell_type": "code",
   "execution_count": 51,
   "id": "734a7dab",
   "metadata": {
    "scrolled": false
   },
   "outputs": [
    {
     "data": {
      "image/png": "[encoded data removed]",
      "text/plain": [
       "<Figure size 576x576 with 64 Axes>"
      ]
     },
     "metadata": {
      "needs_background": "light"
     },
     "output_type": "display_data"
    }
   ],
   "source": [
    "fig, axs = plt.subplots(8, 8, figsize=(8,8))\n",
    "\n",
    "for i in range(8):\n",
    "    for j in range(8):\n",
    "        axs[i, j].imshow(IDC(j, i), cmap = \"gray\")\n",
    "        \n",
    "for ax in axs.flat:\n",
    "    ax.label_outer()\n",
    "    ax.axis('off')\n",
    "\n",
    "fig.suptitle('Transformada discreta cosseno', fontsize=16)\n",
    "fig.tight_layout();"
   ]
  },
  {
   "cell_type": "code",
   "execution_count": 52,
   "id": "b1976a51",
   "metadata": {},
   "outputs": [],
   "source": [
    "def get_IDCs():\n",
    "    IDCs = np.zeros((8,8,64))\n",
    "\n",
    "    for y in range(0,8):\n",
    "        for x in range(0,8):\n",
    "            IDCs[:,:,zigzag[x+8*y]] = IDC(x,y)\n",
    "    return IDCs\n",
    "\n",
    "IDCs = get_IDCs()"
   ]
  },
  {
   "cell_type": "markdown",
   "id": "0fd437b9",
   "metadata": {},
   "source": [
    "Agora mostramos as forma na ordem (linha a linha), que são utilizadas na hora de compor o jpeg. Os mais para o final muitas vezes são truncados."
   ]
  },
  {
   "cell_type": "code",
   "execution_count": 53,
   "id": "f4a6dd74",
   "metadata": {},
   "outputs": [
    {
     "data": {
      "image/png": "[encoded data removed]",
      "text/plain": [
       "<Figure size 576x576 with 64 Axes>"
      ]
     },
     "metadata": {
      "needs_background": "light"
     },
     "output_type": "display_data"
    }
   ],
   "source": [
    "fig, axs = plt.subplots(8, 8, figsize=(8,8))\n",
    "\n",
    "for i in range(8):\n",
    "    for j in range(8):\n",
    "        axs[j,i].imshow(IDCs[:,:,i+j*8], cmap = \"gray\")\n",
    "        \n",
    "for ax in axs.flat:\n",
    "    ax.label_outer()\n",
    "    ax.axis('off')\n",
    "    \n",
    "fig.suptitle('Transformada discreta cosseno na ordem que é utilizada no JPEG, linha a linha', fontsize=16)\n",
    "fig.tight_layout();"
   ]
  },
  {
   "cell_type": "markdown",
   "id": "edac0333",
   "metadata": {},
   "source": [
    "Usamos as funções acima para gerar as transformadas utilizadas para transformar a imagem para o domínio da frequência."
   ]
  },
  {
   "cell_type": "code",
   "execution_count": 54,
   "id": "4ef3b805",
   "metadata": {},
   "outputs": [],
   "source": [
    "def forma_imagem(decodificado, n_qt):\n",
    "    return (IDCs*decodificado[np.newaxis,np.newaxis]*qt_tb[n_qt][np.newaxis,np.newaxis])"
   ]
  },
  {
   "cell_type": "code",
   "execution_count": 55,
   "id": "e26da7f6",
   "metadata": {},
   "outputs": [],
   "source": [
    "dados_imagem_hex = segmentos[-1]\n",
    "dados_imagem_hex = dados_imagem_hex.replace(\"FF00\", \"FF\")\n",
    "dados_imagem_bin = bin(int(dados_imagem_hex, 16))[2:]\n",
    "\n",
    "image = np.zeros((altura,largura,3)).astype(int)\n",
    "\n",
    "dccoeff_Y_old = 0\n",
    "dccoeff_Cb_old = 0\n",
    "dccoeff_Cr_old = 0\n",
    "\n",
    "MCUs = {}\n",
    "\n",
    "# Decodifica cada um dos MCU 8x8 da imagem\n",
    "for y in range(altura//8):\n",
    "    for x in range(largura//8):\n",
    "        dados_imagem_bin, binarios = get_RLC(dados_imagem_bin,  dict_componentes[1]) # Extraí os binários\n",
    "        decodificado_Y, dccoeff_Y_old = decode_bin2int(binarios, dccoeff_Y_old) # Converte os binários para números\n",
    "        # Usa os números, a tabela de quantização para formar e as formas da transformada cosseno para formar a imagem \n",
    "        base_Y = forma_imagem(decodificado_Y, 0)\n",
    "        \n",
    "        dados_imagem_bin, binarios = get_RLC(dados_imagem_bin,  dict_componentes[2])\n",
    "        decodificado_Cr, dccoeff_Cr_old = decode_bin2int(binarios, dccoeff_Cr_old)\n",
    "        base_Cr = forma_imagem(decodificado_Cr, 1)\n",
    "        \n",
    "        dados_imagem_bin, binarios = get_RLC(dados_imagem_bin,  dict_componentes[3])\n",
    "        decodificado_Cb, dccoeff_Cb_old = decode_bin2int(binarios, dccoeff_Cb_old)\n",
    "        base_Cb = forma_imagem(decodificado_Cb, 1)\n",
    "\n",
    "        MCUs[str(x)+\"_\"+str(y)] = (base_Y, base_Cr, base_Cb, decodificado_Y.copy())\n",
    "        \n",
    "        image[(y*8):(y*8)+8,(x*8):(x*8)+8,:] = np.transpose(np.array((base_Y.sum(axis=2), \n",
    "            base_Cr.sum(axis=2), base_Cb.sum(axis=2))).reshape((3,8,8)), (1, 2, 0))"
   ]
  },
  {
   "cell_type": "markdown",
   "id": "870ef75e",
   "metadata": {},
   "source": [
    "## Endentendo como funciona a composição"
   ]
  },
  {
   "cell_type": "markdown",
   "id": "8ccb5595",
   "metadata": {},
   "source": [
    "Pegamos a componente de crominância do terceiro MCU, que é um \"T\"."
   ]
  },
  {
   "cell_type": "code",
   "execution_count": 56,
   "id": "19d3d143",
   "metadata": {
    "scrolled": true
   },
   "outputs": [
    {
     "data": {
      "text/plain": [
       "<matplotlib.image.AxesImage at 0x21ee975c850>"
      ]
     },
     "execution_count": 56,
     "metadata": {},
     "output_type": "execute_result"
    },
    {
     "data": {
      "image/png": "[encoded data removed]",
      "text/plain": [
       "<Figure size 432x288 with 1 Axes>"
      ]
     },
     "metadata": {
      "needs_background": "light"
     },
     "output_type": "display_data"
    }
   ],
   "source": [
    "plt.imshow(MCUs[\"2_0\"][0].sum(axis=2), cmap = \"gray\", vmin=-128, vmax=128)"
   ]
  },
  {
   "cell_type": "markdown",
   "id": "140d0913",
   "metadata": {},
   "source": [
    "Abaixo exibimos cada uma das formas da DCT utilizadas para compor a imagem do lado esquerdo e do direto essas formas já somadas até a componente solicitada. Também exibimos a matriz com os pesos que cada forma da DCT tem na imagem."
   ]
  },
  {
   "cell_type": "code",
   "execution_count": 57,
   "id": "658bd739",
   "metadata": {},
   "outputs": [
    {
     "data": {
      "text/plain": [
       "array([[ 83.,   5., -46.,  16.,   5.,  91.,  -3.,   2.],\n",
       "       [  2.,  33.,  45.,   1., -28.,   1.,  -8.,   1.],\n",
       "       [ 19.,   4.,  -5.,   0.,  10.,   3.,   0., -10.],\n",
       "       [  3.,   8.,  -1.,   8.,   1.,   0.,  -1.,  -7.],\n",
       "       [  0.,   1.,   0.,  -1.,   1.,  -2.,   0.,  -4.],\n",
       "       [  0.,  -3.,   2.,   0.,  -1.,   1.,  -5.,   0.],\n",
       "       [  0.,  -3.,   0.,   1.,  -1.,  -2.,  -2.,   1.],\n",
       "       [  0.,   1.,   4.,   0.,   0.,   2.,   1.,  -3.]])"
      ]
     },
     "execution_count": 57,
     "metadata": {},
     "output_type": "execute_result"
    }
   ],
   "source": [
    "MCUs[\"2_0\"][3].reshape((8,8))"
   ]
  },
  {
   "cell_type": "code",
   "execution_count": 58,
   "id": "782fae17",
   "metadata": {},
   "outputs": [
    {
     "data": {
      "image/png": "[encoded data removed]",
      "text/plain": [
       "<Figure size 1152x576 with 128 Axes>"
      ]
     },
     "metadata": {
      "needs_background": "light"
     },
     "output_type": "display_data"
    }
   ],
   "source": [
    "fig, axs = plt.subplots(8, 16, figsize=(16,8))\n",
    "\n",
    "for i in range(8):\n",
    "    for j in range(8):\n",
    "        axs[j,i].imshow(MCUs[\"2_0\"][0][:,:,i+j*8], cmap = \"gray\", vmin=-128, vmax=128)\n",
    "\n",
    "for i in range(8):\n",
    "    for j in range(8):\n",
    "        axs[j,i+8].imshow(MCUs[\"2_0\"][0][:,:,:i+j*8+1].sum(axis=2), cmap = \"gray\", vmin=-128, vmax=128)\n",
    "        \n",
    "for ax in axs.flat:\n",
    "    ax.label_outer()\n",
    "    ax.axis('off')\n",
    "    \n",
    "fig.suptitle('Transformada discreta cosseno na ordem que é utilizada no JPEG, linha a linha', fontsize=16)\n",
    "fig.tight_layout();"
   ]
  },
  {
   "cell_type": "markdown",
   "id": "08b956b8",
   "metadata": {},
   "source": [
    "## Transformando as cores de Luminância/Crominância para RGB"
   ]
  },
  {
   "cell_type": "code",
   "execution_count": 59,
   "id": "9f42ce7e",
   "metadata": {},
   "outputs": [],
   "source": [
    "def ycbcr2rgb(im):\n",
    "    xform = np.array([[1, 0, 1.402], [1, -0.34414, -.71414], [1, 1.772, 0]])\n",
    "    rgb = im.dot(xform.T)+128\n",
    "    np.putmask(rgb, rgb > 255, 255)\n",
    "    np.putmask(rgb, rgb < 0, 0)\n",
    "    return np.uint8(rgb)"
   ]
  },
  {
   "cell_type": "code",
   "execution_count": 60,
   "id": "4bf72640",
   "metadata": {
    "scrolled": true
   },
   "outputs": [
    {
     "data": {
      "text/plain": [
       "<matplotlib.image.AxesImage at 0x21eeac7bfa0>"
      ]
     },
     "execution_count": 60,
     "metadata": {},
     "output_type": "execute_result"
    },
    {
     "data": {
      "image/png": "[encoded data removed]",
      "text/plain": [
       "<Figure size 432x288 with 1 Axes>"
      ]
     },
     "metadata": {
      "needs_background": "light"
     },
     "output_type": "display_data"
    }
   ],
   "source": [
    "plt.imshow(ycbcr2rgb(image))"
   ]
  },
  {
   "cell_type": "markdown",
   "id": "aac7663d",
   "metadata": {
    "scrolled": true
   },
   "source": [
    "# Conclusões"
   ]
  },
  {
   "cell_type": "markdown",
   "id": "8c59646f",
   "metadata": {},
   "source": [
    "Talvez o mais impressionante do JPEG seja que depois 30 anos é virtualmente o padrão de imagem utilizado na internet/celulares/Windows. Outros formatos como PNG/GIF tem objetivos distintos, o PNG não é uma compactação lossless, sem perda de qualidade, logo os arquivos são bem maiores, GIF é mais utilizado em vídeos curtos (cada vez menos). Diversos formatos foram criados, como JPEG 2000, um padrão fadado ao fracasso devido a patentes, WebP, HD Photo/JPEG XR, mas nenhum pegou. O JPEG é um perfeito exemplo do \"bom o bastante\".\n",
    "\n",
    "No caso da codificação de vídeo diversos novos padrões vieram e realmente foram utilizados, pois o espaço ocupado na compactação é significativamente menor. O MPEG é fortemente baseado no JPEG, talvez o MPEG2 utilizado em DVDs também seja. Depois veio o DivX/MPEG4, H.264 (Blurays), por último o H.265/HEVC (Bluray Ultra HD). Em imagens também tivemos diversos padrões, muito viraram padrões JPEG, mas só agora tem um que acredito que possa vir a substituir o JPEG, JPEG XL, pois respeitaram o legado do JPEG, permitindo salvar novamente, mantendo a mesma qualidade e diminuindo o tamanho (provavelmente utilizando uma codificação mais eficiênte do que a de Huffman.\n",
    "\n",
    "O JPEG é interessante, pois permite entender as técnicas que até hoje são utilizadas na compactação de imagens/vídeos (DCTs são utilizadas tanto no H.265, quanto no JPEG XL), permite aprender um pouco de codificação, código de Huffman é muito importante para computação ([olá Shannon](https://en.wikipedia.org/wiki/Information_theory)). Com um pouco mais de trabalho (talvez bastante) seria possível partir para uma decodificação de vídeo, a principal diferença seria adicionar [Motion Compensation](https://en.wikipedia.org/wiki/Motion_compensation), quem sabe no futuro."
   ]
  },
  {
   "cell_type": "code",
   "execution_count": null,
   "id": "a469e931",
   "metadata": {
    "scrolled": true
   },
   "outputs": [],
   "source": []
  }
 ],
 "metadata": {
  "kernelspec": {
   "display_name": "Python 3 (ipykernel)",
   "language": "python",
   "name": "python3"
  },
  "language_info": {
   "codemirror_mode": {
    "name": "ipython",
    "version": 3
   },
   "file_extension": ".py",
   "mimetype": "text/x-python",
   "name": "python",
   "nbconvert_exporter": "python",
   "pygments_lexer": "ipython3",
   "version": "3.9.7"
  }
 },
 "nbformat": 4,
 "nbformat_minor": 5
}
