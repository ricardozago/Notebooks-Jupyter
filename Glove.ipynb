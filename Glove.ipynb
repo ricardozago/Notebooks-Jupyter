{
 "cells": [
  {
   "cell_type": "code",
   "execution_count": 1,
   "id": "e70c7c1e",
   "metadata": {},
   "outputs": [],
   "source": [
    "import pandas as pd\n",
    "import numpy as np\n",
    "from tqdm import tqdm\n",
    "from gensim.models import KeyedVectors\n",
    "tqdm.pandas()\n",
    "from sklearn.metrics.pairwise import cosine_distances, cosine_similarity"
   ]
  },
  {
   "cell_type": "markdown",
   "id": "acf075fc",
   "metadata": {},
   "source": [
    "Utiliza o GLOVE em PT-BR\n",
    "http://nilc.icmc.usp.br/nilc/index.php/repositorio-de-word-embeddings-do-nilc"
   ]
  },
  {
   "cell_type": "code",
   "execution_count": 2,
   "id": "11af7516",
   "metadata": {},
   "outputs": [],
   "source": [
    "glove = KeyedVectors.load_word2vec_format('./glove_s50.txt')"
   ]
  },
  {
   "cell_type": "code",
   "execution_count": 3,
   "id": "00651fe8",
   "metadata": {},
   "outputs": [],
   "source": [
    "df = pd.read_excel(\"Disciplinas.xlsx\")"
   ]
  },
  {
   "cell_type": "code",
   "execution_count": 4,
   "id": "4d6df436",
   "metadata": {},
   "outputs": [],
   "source": [
    "df.Disciplinas = df.Disciplinas.str.lower()"
   ]
  },
  {
   "cell_type": "code",
   "execution_count": 5,
   "id": "a43efb81",
   "metadata": {},
   "outputs": [
    {
     "data": {
      "text/plain": [
       "929605"
      ]
     },
     "execution_count": 5,
     "metadata": {},
     "output_type": "execute_result"
    }
   ],
   "source": [
    "len(glove.index_to_key)"
   ]
  },
  {
   "cell_type": "code",
   "execution_count": 6,
   "id": "cdb22c0c",
   "metadata": {},
   "outputs": [],
   "source": [
    "# dir(glove)"
   ]
  },
  {
   "cell_type": "code",
   "execution_count": 7,
   "id": "da810a32",
   "metadata": {},
   "outputs": [
    {
     "name": "stderr",
     "output_type": "stream",
     "text": [
      "100%|███████████████████████████████████████████████████████████████████████████████| 300/300 [00:00<00:00, 872.85it/s]\n"
     ]
    }
   ],
   "source": [
    "df[\"embedding\"] = \\\n",
    "    df.Disciplinas.progress_apply(lambda x: np.array([glove[x] for x in x.split() if x in glove.index_to_key]).max(axis=0))"
   ]
  },
  {
   "cell_type": "code",
   "execution_count": 8,
   "id": "21ea2217",
   "metadata": {},
   "outputs": [],
   "source": [
    "df['_key'] = 1"
   ]
  },
  {
   "cell_type": "code",
   "execution_count": 9,
   "id": "d55719cc",
   "metadata": {},
   "outputs": [],
   "source": [
    "result = pd.merge(df, df, on='_key', how='outer').drop('_key', axis=1)"
   ]
  },
  {
   "cell_type": "code",
   "execution_count": 10,
   "id": "cb451438",
   "metadata": {},
   "outputs": [
    {
     "name": "stderr",
     "output_type": "stream",
     "text": [
      "100%|██████████████████████████████████████████████████████████████████████████| 90000/90000 [00:48<00:00, 1864.61it/s]\n"
     ]
    }
   ],
   "source": [
    "result[\"cosine_distance\"] = result.progress_apply(lambda x: \n",
    "    cosine_distances(x[\"embedding_x\"].reshape(1, -1), x[\"embedding_y\"].reshape(1, -1))[0][0], axis=1)"
   ]
  },
  {
   "cell_type": "code",
   "execution_count": 11,
   "id": "43360d1e",
   "metadata": {},
   "outputs": [
    {
     "name": "stderr",
     "output_type": "stream",
     "text": [
      "100%|██████████████████████████████████████████████████████████████████████████| 90000/90000 [00:46<00:00, 1940.71it/s]\n"
     ]
    }
   ],
   "source": [
    "result[\"cosine_similarity\"] = result.progress_apply(lambda x: \n",
    "    cosine_similarity(x[\"embedding_x\"].reshape(1, -1), x[\"embedding_y\"].reshape(1, -1))[0][0], axis=1)"
   ]
  },
  {
   "cell_type": "code",
   "execution_count": 12,
   "id": "d60f26a1",
   "metadata": {},
   "outputs": [],
   "source": [
    "result.drop([\"embedding_x\", \"embedding_y\"], axis=1).to_excel(\"teste3.xlsx\", index=False)"
   ]
  },
  {
   "cell_type": "code",
   "execution_count": null,
   "id": "9bc31723",
   "metadata": {},
   "outputs": [],
   "source": []
  },
  {
   "cell_type": "code",
   "execution_count": null,
   "id": "d4d1bc78",
   "metadata": {},
   "outputs": [],
   "source": []
  },
  {
   "cell_type": "code",
   "execution_count": null,
   "id": "89dfc517",
   "metadata": {},
   "outputs": [],
   "source": []
  },
  {
   "cell_type": "code",
   "execution_count": null,
   "id": "43dbd6f2",
   "metadata": {},
   "outputs": [],
   "source": []
  },
  {
   "cell_type": "code",
   "execution_count": null,
   "id": "4e20fceb",
   "metadata": {},
   "outputs": [],
   "source": []
  },
  {
   "cell_type": "code",
   "execution_count": null,
   "id": "06cdbc00",
   "metadata": {},
   "outputs": [],
   "source": []
  }
 ],
 "metadata": {
  "kernelspec": {
   "display_name": "env_equiv",
   "language": "python",
   "name": "env_equiv"
  },
  "language_info": {
   "codemirror_mode": {
    "name": "ipython",
    "version": 3
   },
   "file_extension": ".py",
   "mimetype": "text/x-python",
   "name": "python",
   "nbconvert_exporter": "python",
   "pygments_lexer": "ipython3",
   "version": "3.9.13"
  }
 },
 "nbformat": 4,
 "nbformat_minor": 5
}
